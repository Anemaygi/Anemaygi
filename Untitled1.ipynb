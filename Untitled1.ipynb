{
  "nbformat": 4,
  "nbformat_minor": 0,
  "metadata": {
    "colab": {
      "provenance": [],
      "authorship_tag": "ABX9TyOKBQU3ukTW2pFBjnp8aZgP",
      "include_colab_link": true
    },
    "kernelspec": {
      "name": "python3",
      "display_name": "Python 3"
    },
    "language_info": {
      "name": "python"
    }
  },
  "cells": [
    {
      "cell_type": "markdown",
      "metadata": {
        "id": "view-in-github",
        "colab_type": "text"
      },
      "source": [
        "<a href=\"https://colab.research.google.com/github/Anemaygi/Anemaygi/blob/master/Untitled1.ipynb\" target=\"_parent\"><img src=\"https://colab.research.google.com/assets/colab-badge.svg\" alt=\"Open In Colab\"/></a>"
      ]
    },
    {
      "cell_type": "code",
      "execution_count": 3,
      "metadata": {
        "colab": {
          "base_uri": "https://localhost:8080/"
        },
        "id": "OLs7T1O-EWrc",
        "outputId": "521da7d8-7863-47c9-eff8-371a06db177a"
      },
      "outputs": [
        {
          "name": "stdout",
          "output_type": "stream",
          "text": [
            "Enter is the name of receptor without any extension (i.e. ercc1)a\n"
          ]
        }
      ],
      "source": [
        "\n",
        "receptor_name = input(\"Enter is the name of receptor without any extension (i.e. ercc1)\");"
      ]
    },
    {
      "cell_type": "code",
      "source": [
        "import os\n",
        "import shutil\n",
        "#Working directory\n",
        "vsroot = os.getcwd()\n",
        "#Create directory\n",
        "os.mkdir(\"giane\")\n",
        "#Change directory\n",
        "os.chdir(\"giane\")\n",
        "print(os.getcwd())"
      ],
      "metadata": {
        "colab": {
          "base_uri": "https://localhost:8080/"
        },
        "id": "0H0ux79JIlwT",
        "outputId": "0f290519-b0b8-4358-e688-963a3c1644db"
      },
      "execution_count": 12,
      "outputs": [
        {
          "output_type": "stream",
          "name": "stdout",
          "text": [
            "/content/giane\n"
          ]
        }
      ]
    },
    {
      "cell_type": "code",
      "source": [
        "#Deleting a folder and all of your files\n",
        "import shutil\n",
        "shutil.rmtree(\"teste\")"
      ],
      "metadata": {
        "colab": {
          "base_uri": "https://localhost:8080/"
        },
        "id": "eROcfBVhKiQJ",
        "outputId": "7f6886a0-11d0-47d3-8031-f87f6c1ecd2d"
      },
      "execution_count": 17,
      "outputs": [
        {
          "output_type": "stream",
          "name": "stdout",
          "text": [
            "/content\n"
          ]
        }
      ]
    },
    {
      "cell_type": "code",
      "source": [
        "name=\"oii\"\n",
        "sort = vsroot+\"/\"+name+\".pdb\"\n",
        "shutil.copyfile(sort, \"testw/\"+name+\".pdb\")"
      ],
      "metadata": {
        "colab": {
          "base_uri": "https://localhost:8080/",
          "height": 37
        },
        "id": "UBqgsZ6kOD8_",
        "outputId": "464d3a29-084c-4219-9cae-39c93d3878de"
      },
      "execution_count": 25,
      "outputs": [
        {
          "output_type": "execute_result",
          "data": {
            "text/plain": [
              "'testw/oii.pdb'"
            ],
            "application/vnd.google.colaboratory.intrinsic+json": {
              "type": "string"
            }
          },
          "metadata": {},
          "execution_count": 25
        }
      ]
    },
    {
      "cell_type": "code",
      "source": [
        "shutil.copyfile('oii', 'testw/ee')"
      ],
      "metadata": {
        "colab": {
          "base_uri": "https://localhost:8080/",
          "height": 37
        },
        "id": "EJMRHLglNqZn",
        "outputId": "ae3d846e-2a72-4afa-bb60-d50ee8c0f2ae"
      },
      "execution_count": 21,
      "outputs": [
        {
          "output_type": "execute_result",
          "data": {
            "text/plain": [
              "'testw/ee'"
            ],
            "application/vnd.google.colaboratory.intrinsic+json": {
              "type": "string"
            }
          },
          "metadata": {},
          "execution_count": 21
        }
      ]
    },
    {
      "cell_type": "code",
      "source": [
        "os.mkdir(\"giane\")\n",
        "os.mkdir(\"giane/oi\")"
      ],
      "metadata": {
        "id": "03oEX-RSPT6u"
      },
      "execution_count": 28,
      "outputs": []
    }
  ]
}